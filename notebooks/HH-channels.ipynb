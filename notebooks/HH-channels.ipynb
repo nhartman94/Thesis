{
 "cells": [
  {
   "cell_type": "markdown",
   "id": "bd863c62",
   "metadata": {},
   "source": [
    "# HH channels\n",
    "\n",
    "**Goal:** I wanted to show the S/B tables for th 3 main channels, so that's what I'm doing in this notebook."
   ]
  },
  {
   "cell_type": "code",
   "execution_count": 1,
   "id": "e2280026",
   "metadata": {},
   "outputs": [
    {
     "name": "stderr",
     "output_type": "stream",
     "text": [
      "PyATLASstyle/PyATLASstyle.py:15: MatplotlibDeprecationWarning: \n",
      "The createFontList function was deprecated in Matplotlib 3.2 and will be removed two minor releases later. Use FontManager.addfont instead.\n",
      "  font_list = font_manager.createFontList(font_files)\n"
     ]
    }
   ],
   "source": [
    "import pandas as pd\n",
    "import numpy as np\n",
    "\n",
    "import matplotlib.pyplot as plt\n",
    "\n",
    "import os\n",
    "import matplotlib as mpl\n",
    "os.sys.path.append( \"PyATLASstyle/\")\n",
    "import PyATLASstyle as pas\n",
    "pas.applyATLASstyle(mpl)"
   ]
  },
  {
   "cell_type": "code",
   "execution_count": null,
   "id": "fac043d6",
   "metadata": {},
   "outputs": [],
   "source": []
  },
  {
   "cell_type": "markdown",
   "id": "e3084677",
   "metadata": {},
   "source": [
    "**From ATLAS-CONF-2021-016:**\n",
    "\n",
    "<img src=\"bbyy-table.png\">"
   ]
  },
  {
   "cell_type": "markdown",
   "id": "f060e6d4",
   "metadata": {},
   "source": [
    "**Note:** By summing up the ggF, ttH, ZH, and rest rows, they are the same as the the single Higgs bkgs, so these don't give you any extra information."
   ]
  },
  {
   "cell_type": "code",
   "execution_count": 2,
   "id": "9ff6217e",
   "metadata": {},
   "outputs": [
    {
     "data": {
      "text/plain": [
       "0.6698999999999999"
      ]
     },
     "execution_count": 2,
     "metadata": {},
     "output_type": "execute_result"
    }
   ],
   "source": [
    ".261+.1929+.142 +.074"
   ]
  },
  {
   "cell_type": "code",
   "execution_count": 3,
   "id": "c4e9c2d8",
   "metadata": {},
   "outputs": [],
   "source": [
    "bbyy = pd.DataFrame(0,\n",
    "                    ['Continuum bkg','Single Higgs bkg','SM HH','S/B'],\n",
    "                    ['High mass BDT tight','High mass BDT loose','Low mass BDT tight','Low mass BDT loose'])\n",
    "\n",
    "bbyy['High mass BDT tight'] = [4.9, 0.670, 0.8753,0]\n",
    "bbyy['High mass BDT loose'] = [9.5,1.57,.3680,0]\n",
    "\n",
    "bbyy['Low mass BDT tight'] = [3.7,.220,0.0494,0]\n",
    "bbyy['Low mass BDT loose'] = [24.9,1.390,.0787,0]\n",
    "\n",
    "bbyy['all'] = bbyy.values.sum(axis=1)"
   ]
  },
  {
   "cell_type": "code",
   "execution_count": 4,
   "id": "75bc80fe",
   "metadata": {},
   "outputs": [],
   "source": [
    "bbyy.loc['S/B',:] = bbyy.loc['SM HH',:] / (bbyy.loc['Continuum bkg',:]+bbyy.loc['Single Higgs bkg',:])"
   ]
  },
  {
   "cell_type": "code",
   "execution_count": 5,
   "id": "07398e67",
   "metadata": {},
   "outputs": [
    {
     "data": {
      "text/html": [
       "<div>\n",
       "<style scoped>\n",
       "    .dataframe tbody tr th:only-of-type {\n",
       "        vertical-align: middle;\n",
       "    }\n",
       "\n",
       "    .dataframe tbody tr th {\n",
       "        vertical-align: top;\n",
       "    }\n",
       "\n",
       "    .dataframe thead th {\n",
       "        text-align: right;\n",
       "    }\n",
       "</style>\n",
       "<table border=\"1\" class=\"dataframe\">\n",
       "  <thead>\n",
       "    <tr style=\"text-align: right;\">\n",
       "      <th></th>\n",
       "      <th>High mass BDT tight</th>\n",
       "      <th>High mass BDT loose</th>\n",
       "      <th>Low mass BDT tight</th>\n",
       "      <th>Low mass BDT loose</th>\n",
       "      <th>all</th>\n",
       "    </tr>\n",
       "  </thead>\n",
       "  <tbody>\n",
       "    <tr>\n",
       "      <th>Continuum bkg</th>\n",
       "      <td>4.900000</td>\n",
       "      <td>9.500000</td>\n",
       "      <td>3.700000</td>\n",
       "      <td>24.900000</td>\n",
       "      <td>43.000000</td>\n",
       "    </tr>\n",
       "    <tr>\n",
       "      <th>Single Higgs bkg</th>\n",
       "      <td>0.670000</td>\n",
       "      <td>1.570000</td>\n",
       "      <td>0.220000</td>\n",
       "      <td>1.390000</td>\n",
       "      <td>3.850000</td>\n",
       "    </tr>\n",
       "    <tr>\n",
       "      <th>SM HH</th>\n",
       "      <td>0.875300</td>\n",
       "      <td>0.368000</td>\n",
       "      <td>0.049400</td>\n",
       "      <td>0.078700</td>\n",
       "      <td>1.371400</td>\n",
       "    </tr>\n",
       "    <tr>\n",
       "      <th>S/B</th>\n",
       "      <td>0.157145</td>\n",
       "      <td>0.033243</td>\n",
       "      <td>0.012602</td>\n",
       "      <td>0.002994</td>\n",
       "      <td>0.029272</td>\n",
       "    </tr>\n",
       "  </tbody>\n",
       "</table>\n",
       "</div>"
      ],
      "text/plain": [
       "                  High mass BDT tight  High mass BDT loose  \\\n",
       "Continuum bkg                4.900000             9.500000   \n",
       "Single Higgs bkg             0.670000             1.570000   \n",
       "SM HH                        0.875300             0.368000   \n",
       "S/B                          0.157145             0.033243   \n",
       "\n",
       "                  Low mass BDT tight  Low mass BDT loose        all  \n",
       "Continuum bkg               3.700000           24.900000  43.000000  \n",
       "Single Higgs bkg            0.220000            1.390000   3.850000  \n",
       "SM HH                       0.049400            0.078700   1.371400  \n",
       "S/B                         0.012602            0.002994   0.029272  "
      ]
     },
     "execution_count": 5,
     "metadata": {},
     "output_type": "execute_result"
    }
   ],
   "source": [
    "bbyy"
   ]
  },
  {
   "cell_type": "code",
   "execution_count": 6,
   "id": "4062282e",
   "metadata": {},
   "outputs": [
    {
     "data": {
      "text/plain": [
       "46.85"
      ]
     },
     "execution_count": 6,
     "metadata": {},
     "output_type": "execute_result"
    }
   ],
   "source": [
    "43.000000+3.850000"
   ]
  },
  {
   "cell_type": "code",
   "execution_count": 7,
   "id": "e480ad92",
   "metadata": {},
   "outputs": [
    {
     "data": {
      "text/plain": [
       "43.0"
      ]
     },
     "execution_count": 7,
     "metadata": {},
     "output_type": "execute_result"
    }
   ],
   "source": [
    "4.9000+9.50+3.7000+24.9000"
   ]
  },
  {
   "cell_type": "code",
   "execution_count": 8,
   "id": "fd817fb1",
   "metadata": {},
   "outputs": [
    {
     "data": {
      "text/plain": [
       "0.02927214514407684"
      ]
     },
     "execution_count": 8,
     "metadata": {},
     "output_type": "execute_result"
    }
   ],
   "source": [
    "1.3714/46.85"
   ]
  },
  {
   "cell_type": "code",
   "execution_count": 9,
   "id": "53082295",
   "metadata": {},
   "outputs": [
    {
     "data": {
      "text/plain": [
       "120433.82"
      ]
     },
     "execution_count": 9,
     "metadata": {},
     "output_type": "execute_result"
    }
   ],
   "source": [
    "103734+7110.77+9589.05"
   ]
  },
  {
   "cell_type": "code",
   "execution_count": 10,
   "id": "42a5f395",
   "metadata": {},
   "outputs": [
    {
     "data": {
      "text/plain": [
       "0.00010882399342372937"
      ]
     },
     "execution_count": 10,
     "metadata": {},
     "output_type": "execute_result"
    }
   ],
   "source": [
    "13.106/120433"
   ]
  },
  {
   "cell_type": "code",
   "execution_count": 11,
   "id": "5b294652",
   "metadata": {},
   "outputs": [],
   "source": [
    "cols = pd.MultiIndex.from_product([['had had','SLT','DTT'],['exp bkg','postfit bkg','dat','sig']])"
   ]
  },
  {
   "cell_type": "code",
   "execution_count": 12,
   "id": "d5e3d86a",
   "metadata": {},
   "outputs": [],
   "source": [
    "bbtt = pd.DataFrame(0, range(15),cols)"
   ]
  },
  {
   "cell_type": "markdown",
   "id": "1773f364",
   "metadata": {},
   "source": [
    "## Need to remember to unscale these bbtautau limits by the exp limit (3.9)"
   ]
  },
  {
   "cell_type": "code",
   "execution_count": 13,
   "id": "14ff2b21",
   "metadata": {},
   "outputs": [],
   "source": [
    "bbtt.loc[5:,('had had','sig')] = [\n",
    "                                    0.499277318095571,\n",
    "                                    0.6618976151806469,\n",
    "                                    1.0589426711332126,\n",
    "                                    0.9639535841300387,\n",
    "                                    1.3605546356831566,\n",
    "                                    1.5421895468659552,\n",
    "                                    1.8611029956287344,\n",
    "                                    2.6268197451350472,\n",
    "                                    3.270908288766584,\n",
    "                                    5.571355670850467   \n",
    "                                  ]"
   ]
  },
  {
   "cell_type": "code",
   "execution_count": 14,
   "id": "34953fad",
   "metadata": {},
   "outputs": [
    {
     "data": {
      "text/plain": [
       "13"
      ]
     },
     "execution_count": 14,
     "metadata": {},
     "output_type": "execute_result"
    }
   ],
   "source": [
    "len(bbtt.loc[2:,('had had','exp bkg')])"
   ]
  },
  {
   "cell_type": "code",
   "execution_count": 15,
   "id": "bbb5528b",
   "metadata": {},
   "outputs": [],
   "source": [
    "bbtt.loc[1:,('had had','exp bkg')] = [ 3090.355940488574,1503.4304197873348,\n",
    "                                1170.1453090071132,778.6979791274446,\n",
    "                                569.2651872504423,294.8494623131478,\n",
    "                                208.90097943980163,157.57651692667974,\n",
    "                                118.86185863431761,79.09914127879699,\n",
    "                                49.44132898077026,29.02669697017398,\n",
    "                                15.512749355426807,6.060737999023526,]"
   ]
  },
  {
   "cell_type": "code",
   "execution_count": 16,
   "id": "7f621b44",
   "metadata": {},
   "outputs": [],
   "source": [
    "bbtt.loc[4:,('SLT','sig')] = [ 0.6457372887791818, 1.3442858278804877, 1.9025216559384026, \n",
    "                              2.136037823168436, 2.136037823168436, 2.2200804634650932, \n",
    "                              2.3074297705779596, 2.3074297705779596, 2.2200804634650932, \n",
    "                              2.2200804634650932, 3.142003785257203]"
   ]
  },
  {
   "cell_type": "code",
   "execution_count": 17,
   "id": "1c019f22",
   "metadata": {},
   "outputs": [],
   "source": [
    "bbtt[('SLT','exp bkg')] = [\n",
    "    10802.382549365611, 20029.77070540322, 17840.073858797663, 17164.725854590364, 14152.657243572028, \n",
    "    7343.816011313539, 3265.6262656603935, 1397.1768998751174, 621.2924690620148, 298.44227037904665, \n",
    "    137.93192726625713, 68.8634579471489, 30.621997701190534, 15.288241763511529, 5.6053579593610285\n",
    "]"
   ]
  },
  {
   "cell_type": "code",
   "execution_count": 18,
   "id": "57b261ea",
   "metadata": {},
   "outputs": [],
   "source": [
    "bbtt.loc[5:,('DTT','sig')] = [0.36054711542505025, 0.46869041923141924, 0.48255220427412787,\n",
    "                              0.48255220427412787, 0.5266462393484276, 0.5266462393484276, \n",
    "                              0.5266462393484276, 0.5115178099293145, 0.5266462393484276, 0.8154407395185161]"
   ]
  },
  {
   "cell_type": "code",
   "execution_count": 19,
   "id": "1794de1b",
   "metadata": {},
   "outputs": [],
   "source": [
    "bbtt[('DTT','exp bkg')] = [889.9530352885233, 1262.6001098748563, 1191.10313328300694, 1123.6548001387505, \n",
    "                           815.4407395185161, 526.6462393484276, 294.0048064334708, 179.1284454622004, \n",
    "                           102.95755673125127, 57.476944248353526, 39.349272630958495, 25.413430367026365, \n",
    "                           14.187266741165962, 7.692649574879138, 4.686904192314192]"
   ]
  },
  {
   "cell_type": "code",
   "execution_count": 20,
   "id": "a05bc485",
   "metadata": {},
   "outputs": [
    {
     "data": {
      "text/html": [
       "<div>\n",
       "<style scoped>\n",
       "    .dataframe tbody tr th:only-of-type {\n",
       "        vertical-align: middle;\n",
       "    }\n",
       "\n",
       "    .dataframe tbody tr th {\n",
       "        vertical-align: top;\n",
       "    }\n",
       "\n",
       "    .dataframe thead tr th {\n",
       "        text-align: left;\n",
       "    }\n",
       "</style>\n",
       "<table border=\"1\" class=\"dataframe\">\n",
       "  <thead>\n",
       "    <tr>\n",
       "      <th></th>\n",
       "      <th colspan=\"4\" halign=\"left\">had had</th>\n",
       "      <th colspan=\"4\" halign=\"left\">SLT</th>\n",
       "      <th colspan=\"4\" halign=\"left\">DTT</th>\n",
       "    </tr>\n",
       "    <tr>\n",
       "      <th></th>\n",
       "      <th>exp bkg</th>\n",
       "      <th>postfit bkg</th>\n",
       "      <th>dat</th>\n",
       "      <th>sig</th>\n",
       "      <th>exp bkg</th>\n",
       "      <th>postfit bkg</th>\n",
       "      <th>dat</th>\n",
       "      <th>sig</th>\n",
       "      <th>exp bkg</th>\n",
       "      <th>postfit bkg</th>\n",
       "      <th>dat</th>\n",
       "      <th>sig</th>\n",
       "    </tr>\n",
       "  </thead>\n",
       "  <tbody>\n",
       "    <tr>\n",
       "      <th>0</th>\n",
       "      <td>0.000000</td>\n",
       "      <td>0</td>\n",
       "      <td>0</td>\n",
       "      <td>0.000000</td>\n",
       "      <td>10802.382549</td>\n",
       "      <td>0</td>\n",
       "      <td>0</td>\n",
       "      <td>0.000000</td>\n",
       "      <td>889.953035</td>\n",
       "      <td>0</td>\n",
       "      <td>0</td>\n",
       "      <td>0.000000</td>\n",
       "    </tr>\n",
       "    <tr>\n",
       "      <th>1</th>\n",
       "      <td>3090.355940</td>\n",
       "      <td>0</td>\n",
       "      <td>0</td>\n",
       "      <td>0.000000</td>\n",
       "      <td>20029.770705</td>\n",
       "      <td>0</td>\n",
       "      <td>0</td>\n",
       "      <td>0.000000</td>\n",
       "      <td>1262.600110</td>\n",
       "      <td>0</td>\n",
       "      <td>0</td>\n",
       "      <td>0.000000</td>\n",
       "    </tr>\n",
       "    <tr>\n",
       "      <th>2</th>\n",
       "      <td>1503.430420</td>\n",
       "      <td>0</td>\n",
       "      <td>0</td>\n",
       "      <td>0.000000</td>\n",
       "      <td>17840.073859</td>\n",
       "      <td>0</td>\n",
       "      <td>0</td>\n",
       "      <td>0.000000</td>\n",
       "      <td>1191.103133</td>\n",
       "      <td>0</td>\n",
       "      <td>0</td>\n",
       "      <td>0.000000</td>\n",
       "    </tr>\n",
       "    <tr>\n",
       "      <th>3</th>\n",
       "      <td>1170.145309</td>\n",
       "      <td>0</td>\n",
       "      <td>0</td>\n",
       "      <td>0.000000</td>\n",
       "      <td>17164.725855</td>\n",
       "      <td>0</td>\n",
       "      <td>0</td>\n",
       "      <td>0.000000</td>\n",
       "      <td>1123.654800</td>\n",
       "      <td>0</td>\n",
       "      <td>0</td>\n",
       "      <td>0.000000</td>\n",
       "    </tr>\n",
       "    <tr>\n",
       "      <th>4</th>\n",
       "      <td>778.697979</td>\n",
       "      <td>0</td>\n",
       "      <td>0</td>\n",
       "      <td>0.000000</td>\n",
       "      <td>14152.657244</td>\n",
       "      <td>0</td>\n",
       "      <td>0</td>\n",
       "      <td>0.645737</td>\n",
       "      <td>815.440740</td>\n",
       "      <td>0</td>\n",
       "      <td>0</td>\n",
       "      <td>0.000000</td>\n",
       "    </tr>\n",
       "    <tr>\n",
       "      <th>5</th>\n",
       "      <td>569.265187</td>\n",
       "      <td>0</td>\n",
       "      <td>0</td>\n",
       "      <td>0.499277</td>\n",
       "      <td>7343.816011</td>\n",
       "      <td>0</td>\n",
       "      <td>0</td>\n",
       "      <td>1.344286</td>\n",
       "      <td>526.646239</td>\n",
       "      <td>0</td>\n",
       "      <td>0</td>\n",
       "      <td>0.360547</td>\n",
       "    </tr>\n",
       "    <tr>\n",
       "      <th>6</th>\n",
       "      <td>294.849462</td>\n",
       "      <td>0</td>\n",
       "      <td>0</td>\n",
       "      <td>0.661898</td>\n",
       "      <td>3265.626266</td>\n",
       "      <td>0</td>\n",
       "      <td>0</td>\n",
       "      <td>1.902522</td>\n",
       "      <td>294.004806</td>\n",
       "      <td>0</td>\n",
       "      <td>0</td>\n",
       "      <td>0.468690</td>\n",
       "    </tr>\n",
       "    <tr>\n",
       "      <th>7</th>\n",
       "      <td>208.900979</td>\n",
       "      <td>0</td>\n",
       "      <td>0</td>\n",
       "      <td>1.058943</td>\n",
       "      <td>1397.176900</td>\n",
       "      <td>0</td>\n",
       "      <td>0</td>\n",
       "      <td>2.136038</td>\n",
       "      <td>179.128445</td>\n",
       "      <td>0</td>\n",
       "      <td>0</td>\n",
       "      <td>0.482552</td>\n",
       "    </tr>\n",
       "    <tr>\n",
       "      <th>8</th>\n",
       "      <td>157.576517</td>\n",
       "      <td>0</td>\n",
       "      <td>0</td>\n",
       "      <td>0.963954</td>\n",
       "      <td>621.292469</td>\n",
       "      <td>0</td>\n",
       "      <td>0</td>\n",
       "      <td>2.136038</td>\n",
       "      <td>102.957557</td>\n",
       "      <td>0</td>\n",
       "      <td>0</td>\n",
       "      <td>0.482552</td>\n",
       "    </tr>\n",
       "    <tr>\n",
       "      <th>9</th>\n",
       "      <td>118.861859</td>\n",
       "      <td>0</td>\n",
       "      <td>0</td>\n",
       "      <td>1.360555</td>\n",
       "      <td>298.442270</td>\n",
       "      <td>0</td>\n",
       "      <td>0</td>\n",
       "      <td>2.220080</td>\n",
       "      <td>57.476944</td>\n",
       "      <td>0</td>\n",
       "      <td>0</td>\n",
       "      <td>0.526646</td>\n",
       "    </tr>\n",
       "    <tr>\n",
       "      <th>10</th>\n",
       "      <td>79.099141</td>\n",
       "      <td>0</td>\n",
       "      <td>0</td>\n",
       "      <td>1.542190</td>\n",
       "      <td>137.931927</td>\n",
       "      <td>0</td>\n",
       "      <td>0</td>\n",
       "      <td>2.307430</td>\n",
       "      <td>39.349273</td>\n",
       "      <td>0</td>\n",
       "      <td>0</td>\n",
       "      <td>0.526646</td>\n",
       "    </tr>\n",
       "    <tr>\n",
       "      <th>11</th>\n",
       "      <td>49.441329</td>\n",
       "      <td>0</td>\n",
       "      <td>0</td>\n",
       "      <td>1.861103</td>\n",
       "      <td>68.863458</td>\n",
       "      <td>0</td>\n",
       "      <td>0</td>\n",
       "      <td>2.307430</td>\n",
       "      <td>25.413430</td>\n",
       "      <td>0</td>\n",
       "      <td>0</td>\n",
       "      <td>0.526646</td>\n",
       "    </tr>\n",
       "    <tr>\n",
       "      <th>12</th>\n",
       "      <td>29.026697</td>\n",
       "      <td>0</td>\n",
       "      <td>0</td>\n",
       "      <td>2.626820</td>\n",
       "      <td>30.621998</td>\n",
       "      <td>0</td>\n",
       "      <td>0</td>\n",
       "      <td>2.220080</td>\n",
       "      <td>14.187267</td>\n",
       "      <td>0</td>\n",
       "      <td>0</td>\n",
       "      <td>0.511518</td>\n",
       "    </tr>\n",
       "    <tr>\n",
       "      <th>13</th>\n",
       "      <td>15.512749</td>\n",
       "      <td>0</td>\n",
       "      <td>0</td>\n",
       "      <td>3.270908</td>\n",
       "      <td>15.288242</td>\n",
       "      <td>0</td>\n",
       "      <td>0</td>\n",
       "      <td>2.220080</td>\n",
       "      <td>7.692650</td>\n",
       "      <td>0</td>\n",
       "      <td>0</td>\n",
       "      <td>0.526646</td>\n",
       "    </tr>\n",
       "    <tr>\n",
       "      <th>14</th>\n",
       "      <td>6.060738</td>\n",
       "      <td>0</td>\n",
       "      <td>0</td>\n",
       "      <td>5.571356</td>\n",
       "      <td>5.605358</td>\n",
       "      <td>0</td>\n",
       "      <td>0</td>\n",
       "      <td>3.142004</td>\n",
       "      <td>4.686904</td>\n",
       "      <td>0</td>\n",
       "      <td>0</td>\n",
       "      <td>0.815441</td>\n",
       "    </tr>\n",
       "  </tbody>\n",
       "</table>\n",
       "</div>"
      ],
      "text/plain": [
       "        had had                                     SLT                  \\\n",
       "        exp bkg postfit bkg dat       sig       exp bkg postfit bkg dat   \n",
       "0      0.000000           0   0  0.000000  10802.382549           0   0   \n",
       "1   3090.355940           0   0  0.000000  20029.770705           0   0   \n",
       "2   1503.430420           0   0  0.000000  17840.073859           0   0   \n",
       "3   1170.145309           0   0  0.000000  17164.725855           0   0   \n",
       "4    778.697979           0   0  0.000000  14152.657244           0   0   \n",
       "5    569.265187           0   0  0.499277   7343.816011           0   0   \n",
       "6    294.849462           0   0  0.661898   3265.626266           0   0   \n",
       "7    208.900979           0   0  1.058943   1397.176900           0   0   \n",
       "8    157.576517           0   0  0.963954    621.292469           0   0   \n",
       "9    118.861859           0   0  1.360555    298.442270           0   0   \n",
       "10    79.099141           0   0  1.542190    137.931927           0   0   \n",
       "11    49.441329           0   0  1.861103     68.863458           0   0   \n",
       "12    29.026697           0   0  2.626820     30.621998           0   0   \n",
       "13    15.512749           0   0  3.270908     15.288242           0   0   \n",
       "14     6.060738           0   0  5.571356      5.605358           0   0   \n",
       "\n",
       "                      DTT                            \n",
       "         sig      exp bkg postfit bkg dat       sig  \n",
       "0   0.000000   889.953035           0   0  0.000000  \n",
       "1   0.000000  1262.600110           0   0  0.000000  \n",
       "2   0.000000  1191.103133           0   0  0.000000  \n",
       "3   0.000000  1123.654800           0   0  0.000000  \n",
       "4   0.645737   815.440740           0   0  0.000000  \n",
       "5   1.344286   526.646239           0   0  0.360547  \n",
       "6   1.902522   294.004806           0   0  0.468690  \n",
       "7   2.136038   179.128445           0   0  0.482552  \n",
       "8   2.136038   102.957557           0   0  0.482552  \n",
       "9   2.220080    57.476944           0   0  0.526646  \n",
       "10  2.307430    39.349273           0   0  0.526646  \n",
       "11  2.307430    25.413430           0   0  0.526646  \n",
       "12  2.220080    14.187267           0   0  0.511518  \n",
       "13  2.220080     7.692650           0   0  0.526646  \n",
       "14  3.142004     4.686904           0   0  0.815441  "
      ]
     },
     "execution_count": 20,
     "metadata": {},
     "output_type": "execute_result"
    }
   ],
   "source": [
    "bbtt"
   ]
  },
  {
   "cell_type": "code",
   "execution_count": null,
   "id": "f1dc180c",
   "metadata": {},
   "outputs": [],
   "source": []
  },
  {
   "cell_type": "code",
   "execution_count": 21,
   "id": "ac15812b",
   "metadata": {},
   "outputs": [
    {
     "data": {
      "text/plain": [
       "46.580875368479845"
      ]
     },
     "execution_count": 21,
     "metadata": {},
     "output_type": "execute_result"
    }
   ],
   "source": [
    "np.sum(bbtt.loc[5:,(['had had','SLT','DTT'],'sig')]).sum()"
   ]
  },
  {
   "cell_type": "code",
   "execution_count": 22,
   "id": "32841601",
   "metadata": {},
   "outputs": [
    {
     "data": {
      "text/plain": [
       "15964.803073806208"
      ]
     },
     "execution_count": 22,
     "metadata": {},
     "output_type": "execute_result"
    }
   ],
   "source": [
    "np.sum(bbtt.loc[5:,(['had had','SLT','DTT'],'exp bkg')]).sum()"
   ]
  },
  {
   "cell_type": "code",
   "execution_count": 23,
   "id": "9b11f490",
   "metadata": {},
   "outputs": [
    {
     "data": {
      "text/plain": [
       "had had  sig    19.417002\n",
       "SLT      sig    21.935988\n",
       "DTT      sig     5.227885\n",
       "dtype: float64"
      ]
     },
     "execution_count": 23,
     "metadata": {},
     "output_type": "execute_result"
    }
   ],
   "source": [
    "np.sum(bbtt.loc[5:,(['had had','SLT','DTT'],'sig')])"
   ]
  },
  {
   "cell_type": "code",
   "execution_count": 24,
   "id": "899a8d26",
   "metadata": {},
   "outputs": [
    {
     "data": {
      "text/plain": [
       "had had  exp bkg     1528.594659\n",
       "SLT      exp bkg    13184.664899\n",
       "DTT      exp bkg     1251.543516\n",
       "dtype: float64"
      ]
     },
     "execution_count": 24,
     "metadata": {},
     "output_type": "execute_result"
    }
   ],
   "source": [
    "np.sum(bbtt.loc[5:,(['had had','SLT','DTT'],'exp bkg')])"
   ]
  },
  {
   "cell_type": "code",
   "execution_count": 25,
   "id": "216d6ef6",
   "metadata": {},
   "outputs": [],
   "source": [
    "from colors import *"
   ]
  },
  {
   "cell_type": "code",
   "execution_count": 26,
   "id": "5bcc0200",
   "metadata": {},
   "outputs": [
    {
     "data": {
      "text/html": [
       "<div>\n",
       "<style scoped>\n",
       "    .dataframe tbody tr th:only-of-type {\n",
       "        vertical-align: middle;\n",
       "    }\n",
       "\n",
       "    .dataframe tbody tr th {\n",
       "        vertical-align: top;\n",
       "    }\n",
       "\n",
       "    .dataframe thead th {\n",
       "        text-align: right;\n",
       "    }\n",
       "</style>\n",
       "<table border=\"1\" class=\"dataframe\">\n",
       "  <thead>\n",
       "    <tr style=\"text-align: right;\">\n",
       "      <th></th>\n",
       "      <th>High mass BDT tight</th>\n",
       "      <th>High mass BDT loose</th>\n",
       "      <th>Low mass BDT tight</th>\n",
       "      <th>Low mass BDT loose</th>\n",
       "      <th>all</th>\n",
       "    </tr>\n",
       "  </thead>\n",
       "  <tbody>\n",
       "    <tr>\n",
       "      <th>Continuum bkg</th>\n",
       "      <td>4.900000</td>\n",
       "      <td>9.500000</td>\n",
       "      <td>3.700000</td>\n",
       "      <td>24.900000</td>\n",
       "      <td>43.000000</td>\n",
       "    </tr>\n",
       "    <tr>\n",
       "      <th>Single Higgs bkg</th>\n",
       "      <td>0.670000</td>\n",
       "      <td>1.570000</td>\n",
       "      <td>0.220000</td>\n",
       "      <td>1.390000</td>\n",
       "      <td>3.850000</td>\n",
       "    </tr>\n",
       "    <tr>\n",
       "      <th>SM HH</th>\n",
       "      <td>0.875300</td>\n",
       "      <td>0.368000</td>\n",
       "      <td>0.049400</td>\n",
       "      <td>0.078700</td>\n",
       "      <td>1.371400</td>\n",
       "    </tr>\n",
       "    <tr>\n",
       "      <th>S/B</th>\n",
       "      <td>0.157145</td>\n",
       "      <td>0.033243</td>\n",
       "      <td>0.012602</td>\n",
       "      <td>0.002994</td>\n",
       "      <td>0.029272</td>\n",
       "    </tr>\n",
       "  </tbody>\n",
       "</table>\n",
       "</div>"
      ],
      "text/plain": [
       "                  High mass BDT tight  High mass BDT loose  \\\n",
       "Continuum bkg                4.900000             9.500000   \n",
       "Single Higgs bkg             0.670000             1.570000   \n",
       "SM HH                        0.875300             0.368000   \n",
       "S/B                          0.157145             0.033243   \n",
       "\n",
       "                  Low mass BDT tight  Low mass BDT loose        all  \n",
       "Continuum bkg               3.700000           24.900000  43.000000  \n",
       "Single Higgs bkg            0.220000            1.390000   3.850000  \n",
       "SM HH                       0.049400            0.078700   1.371400  \n",
       "S/B                         0.012602            0.002994   0.029272  "
      ]
     },
     "execution_count": 26,
     "metadata": {},
     "output_type": "execute_result"
    }
   ],
   "source": [
    "bbyy"
   ]
  },
  {
   "cell_type": "code",
   "execution_count": null,
   "id": "80774d43",
   "metadata": {},
   "outputs": [],
   "source": []
  },
  {
   "cell_type": "code",
   "execution_count": 27,
   "id": "e0a0c101",
   "metadata": {},
   "outputs": [],
   "source": [
    "idx = pd.MultiIndex.from_product([['$X_{hh}<0.95$','$X_{hh}>0.95$'],\n",
    "                                  ['$\\Delta\\eta<0.5$','$\\Delta\\eta \\in (0.5, 1.0)$','$\\Delta\\eta>1.0$']])\n",
    "\n",
    "vals = [[1940,1940,7.0, 0.038], \n",
    " [1924,1870,5.1, 0.037],                             \n",
    " [1880,1740,2.9, 0.043],                               \n",
    " [3602,3620,6.5, 0.036],                             \n",
    " [3540,3490,4.7, 0.040],                   \n",
    " [3285,3210,2.8, 0.041],  \n",
    "]\n",
    "\n",
    "bbbb = pd.DataFrame(vals,idx,['Data','Bkg','ggF SM','VBF SM'])"
   ]
  },
  {
   "cell_type": "code",
   "execution_count": 28,
   "id": "bb464876",
   "metadata": {},
   "outputs": [],
   "source": [
    "bbbb['ggF SM / Bkg'] = bbbb['ggF SM'] / bbbb['Bkg']\n",
    "bbbb['VBF SM / Bkg'] = bbbb['VBF SM'] / bbbb['Bkg']"
   ]
  },
  {
   "cell_type": "code",
   "execution_count": 29,
   "id": "de0d3d18",
   "metadata": {},
   "outputs": [
    {
     "data": {
      "text/html": [
       "<div>\n",
       "<style scoped>\n",
       "    .dataframe tbody tr th:only-of-type {\n",
       "        vertical-align: middle;\n",
       "    }\n",
       "\n",
       "    .dataframe tbody tr th {\n",
       "        vertical-align: top;\n",
       "    }\n",
       "\n",
       "    .dataframe thead th {\n",
       "        text-align: right;\n",
       "    }\n",
       "</style>\n",
       "<table border=\"1\" class=\"dataframe\">\n",
       "  <thead>\n",
       "    <tr style=\"text-align: right;\">\n",
       "      <th></th>\n",
       "      <th></th>\n",
       "      <th>Data</th>\n",
       "      <th>Bkg</th>\n",
       "      <th>ggF SM</th>\n",
       "      <th>VBF SM</th>\n",
       "      <th>ggF SM / Bkg</th>\n",
       "      <th>VBF SM / Bkg</th>\n",
       "    </tr>\n",
       "  </thead>\n",
       "  <tbody>\n",
       "    <tr>\n",
       "      <th rowspan=\"3\" valign=\"top\">$X_{hh}&lt;0.95$</th>\n",
       "      <th>$\\Delta\\eta&lt;0.5$</th>\n",
       "      <td>1940</td>\n",
       "      <td>1940</td>\n",
       "      <td>7.0</td>\n",
       "      <td>0.038</td>\n",
       "      <td>0.003608</td>\n",
       "      <td>0.000020</td>\n",
       "    </tr>\n",
       "    <tr>\n",
       "      <th>$\\Delta\\eta \\in (0.5, 1.0)$</th>\n",
       "      <td>1924</td>\n",
       "      <td>1870</td>\n",
       "      <td>5.1</td>\n",
       "      <td>0.037</td>\n",
       "      <td>0.002727</td>\n",
       "      <td>0.000020</td>\n",
       "    </tr>\n",
       "    <tr>\n",
       "      <th>$\\Delta\\eta&gt;1.0$</th>\n",
       "      <td>1880</td>\n",
       "      <td>1740</td>\n",
       "      <td>2.9</td>\n",
       "      <td>0.043</td>\n",
       "      <td>0.001667</td>\n",
       "      <td>0.000025</td>\n",
       "    </tr>\n",
       "    <tr>\n",
       "      <th rowspan=\"3\" valign=\"top\">$X_{hh}&gt;0.95$</th>\n",
       "      <th>$\\Delta\\eta&lt;0.5$</th>\n",
       "      <td>3602</td>\n",
       "      <td>3620</td>\n",
       "      <td>6.5</td>\n",
       "      <td>0.036</td>\n",
       "      <td>0.001796</td>\n",
       "      <td>0.000010</td>\n",
       "    </tr>\n",
       "    <tr>\n",
       "      <th>$\\Delta\\eta \\in (0.5, 1.0)$</th>\n",
       "      <td>3540</td>\n",
       "      <td>3490</td>\n",
       "      <td>4.7</td>\n",
       "      <td>0.040</td>\n",
       "      <td>0.001347</td>\n",
       "      <td>0.000011</td>\n",
       "    </tr>\n",
       "    <tr>\n",
       "      <th>$\\Delta\\eta&gt;1.0$</th>\n",
       "      <td>3285</td>\n",
       "      <td>3210</td>\n",
       "      <td>2.8</td>\n",
       "      <td>0.041</td>\n",
       "      <td>0.000872</td>\n",
       "      <td>0.000013</td>\n",
       "    </tr>\n",
       "  </tbody>\n",
       "</table>\n",
       "</div>"
      ],
      "text/plain": [
       "                                           Data   Bkg  ggF SM  VBF SM  \\\n",
       "$X_{hh}<0.95$ $\\Delta\\eta<0.5$             1940  1940     7.0   0.038   \n",
       "              $\\Delta\\eta \\in (0.5, 1.0)$  1924  1870     5.1   0.037   \n",
       "              $\\Delta\\eta>1.0$             1880  1740     2.9   0.043   \n",
       "$X_{hh}>0.95$ $\\Delta\\eta<0.5$             3602  3620     6.5   0.036   \n",
       "              $\\Delta\\eta \\in (0.5, 1.0)$  3540  3490     4.7   0.040   \n",
       "              $\\Delta\\eta>1.0$             3285  3210     2.8   0.041   \n",
       "\n",
       "                                           ggF SM / Bkg  VBF SM / Bkg  \n",
       "$X_{hh}<0.95$ $\\Delta\\eta<0.5$                 0.003608      0.000020  \n",
       "              $\\Delta\\eta \\in (0.5, 1.0)$      0.002727      0.000020  \n",
       "              $\\Delta\\eta>1.0$                 0.001667      0.000025  \n",
       "$X_{hh}>0.95$ $\\Delta\\eta<0.5$                 0.001796      0.000010  \n",
       "              $\\Delta\\eta \\in (0.5, 1.0)$      0.001347      0.000011  \n",
       "              $\\Delta\\eta>1.0$                 0.000872      0.000013  "
      ]
     },
     "execution_count": 29,
     "metadata": {},
     "output_type": "execute_result"
    }
   ],
   "source": [
    "bbbb"
   ]
  },
  {
   "cell_type": "code",
   "execution_count": 30,
   "id": "b306d047",
   "metadata": {},
   "outputs": [],
   "source": [
    "tab = pd.DataFrame(0,['SM HH','Bkg','$S/B$','$S/\\sqrt{B}$'],['bbyy','bb$\\tau\\tau$','4b'])"
   ]
  },
  {
   "cell_type": "code",
   "execution_count": 38,
   "id": "419e82fa",
   "metadata": {},
   "outputs": [
    {
     "name": "stdout",
     "output_type": "stream",
     "text": [
      "bbyy: S=1.37, B=47, S/B=0.0293, Z=0.388\n",
      "bbtautau: S=34.08, B=1004, S/B=0.0340, Z=1.156\n",
      "bbbb: S=29.00, B=15870, S/B=0.0018, Z=0.254\n"
     ]
    },
    {
     "data": {
      "image/png": "[encoded data removed]",
      "text/plain": [
       "<Figure size 360x576 with 4 Axes>"
      ]
     },
     "metadata": {
      "needs_background": "light"
     },
     "output_type": "display_data"
    }
   ],
   "source": [
    "fig,ax = plt.subplots(4,1,figsize=(5,8),sharex=True)\n",
    "big_ms = 10\n",
    "ms=6\n",
    "ew=1\n",
    "\n",
    "\n",
    "'''\n",
    "bbyy\n",
    "'''\n",
    "c = 'hh:lightturquoise'\n",
    "xx = np.linspace(-.1,.1,4)\n",
    "\n",
    "cols = bbyy.columns[:-1]\n",
    "\n",
    "S = bbyy.loc['SM HH',cols]\n",
    "ax[0].plot(xx, S,marker='o',ms=ms, markerfacecolor=\"None\",\n",
    "           markeredgecolor=c, markeredgewidth=ew,lw=0)\n",
    "ax[0].plot([0], np.sum(S),marker='o',ms=big_ms, color=c,lw=0)\n",
    "\n",
    "B = bbyy.loc['Continuum bkg',cols] + bbyy.loc['Single Higgs bkg',cols]\n",
    "\n",
    "ax[1].plot(xx, B, marker='o',ms=ms, markerfacecolor=\"None\",\n",
    "           markeredgecolor=c, markeredgewidth=ew,lw=0)\n",
    "ax[1].plot([0], np.sum(B), marker='o',ms=big_ms, color=c,lw=0)\n",
    "\n",
    "\n",
    "ax[2].plot(xx, S/B, marker='o',ms=ms, markerfacecolor=\"None\",\n",
    "           markeredgecolor=c, markeredgewidth=ew,lw=0)\n",
    "ax[2].plot([0], np.sum(S)/np.sum(B), marker='o',ms=big_ms, color=c,lw=0)\n",
    "\n",
    "Z = S/np.sqrt(B)\n",
    "ax[3].plot(xx, Z, marker='o',ms=ms, markerfacecolor=\"None\",\n",
    "           markeredgecolor=c, markeredgewidth=ew,lw=0)\n",
    "Z_tot = np.sqrt(np.sum((Z)**2))\n",
    "ax[3].plot([0], Z_tot, marker='o',ms=big_ms, color=c,lw=0)\n",
    "\n",
    "print(f'bbyy: S={np.sum(S):.2f}, B={np.sum(B):.0f}, S/B={np.sum(S)/np.sum(B):.4f}, Z={Z_tot:.3f}')\n",
    "\n",
    "'''\n",
    "bbtautau\n",
    "'''\n",
    "c = 'hh:darkyellow'\n",
    "\n",
    "\n",
    "thresh = 9\n",
    "\n",
    "xx = np.linspace(0.9,1.1,3)\n",
    "S = np.sum(bbtt.loc[thresh:,(['had had','SLT','DTT'],'sig')])\n",
    "\n",
    "ax[0].plot(xx, S,marker='o',ms=6, markerfacecolor=\"None\",\n",
    "           markeredgecolor=c, markeredgewidth=1,lw=0)\n",
    "\n",
    "ax[0].plot([1], np.sum(S),marker='o',ms=big_ms, color=c,lw=0)\n",
    "\n",
    "\n",
    "\n",
    "B = np.sum(bbtt.loc[thresh:,(['had had','SLT','DTT'],'exp bkg')])\n",
    "\n",
    "ax[1].plot(xx, B, marker='o',ms=ms, markerfacecolor=\"None\",\n",
    "           markeredgecolor=c, markeredgewidth=ew,lw=0)\n",
    "ax[1].plot([1], np.sum(B), marker='o',ms=big_ms, color=c,lw=0)\n",
    "\n",
    "\n",
    "ax[2].plot(xx, S.values/B.values, marker='o',ms=ms, markerfacecolor=\"None\",\n",
    "           markeredgecolor=c, markeredgewidth=ew,lw=0)\n",
    "ax[2].plot([1], np.sum(S.values)/np.sum(B.values), marker='o',ms=big_ms, color=c,lw=0)\n",
    "\n",
    "\n",
    "Z = S.values/np.sqrt(B.values)\n",
    "ax[3].plot(xx, Z, marker='o',ms=ms, markerfacecolor=\"None\",\n",
    "           markeredgecolor=c, markeredgewidth=ew,lw=0)\n",
    "Z_tot = np.sqrt(np.sum(Z**2))\n",
    "ax[3].plot([1], Z_tot, marker='o',ms=big_ms, color=c,lw=0)\n",
    "\n",
    "\n",
    "print(f'bbtautau: S={np.sum(S):0.2f}, B={np.sum(B):.0f}, S/B={np.sum(S)/np.sum(B):.4f}, Z={Z_tot:.3f}')\n",
    "\n",
    "\n",
    "\n",
    "'''\n",
    "bbbb\n",
    "'''\n",
    "c = 'hh:darkpink'\n",
    "\n",
    "xx = np.linspace(1.85,2.15,6)\n",
    "S = bbbb['ggF SM']\n",
    "\n",
    "ax[0].plot(xx, S,marker='o',ms=6, markerfacecolor=\"None\",\n",
    "           markeredgecolor=c, markeredgewidth=1,lw=0)\n",
    "\n",
    "ax[0].plot([2], np.sum(S),marker='o',ms=big_ms, color=c,lw=0)\n",
    "\n",
    "\n",
    "B = bbbb['Bkg']\n",
    "\n",
    "ax[1].plot(xx, B, marker='o',ms=ms, markerfacecolor=\"None\",\n",
    "           markeredgecolor=c, markeredgewidth=ew,lw=0)\n",
    "ax[1].plot([2], np.sum(B), marker='o',ms=big_ms, color=c,lw=0)\n",
    "\n",
    "\n",
    "ax[2].plot(xx, S/B, marker='o',ms=ms, markerfacecolor=\"None\",\n",
    "           markeredgecolor=c, markeredgewidth=ew,lw=0)\n",
    "ax[2].plot([2], np.sum(S)/np.sum(B), marker='o',ms=big_ms, color=c,lw=0)\n",
    "\n",
    "Z = S/np.sqrt(B)\n",
    "ax[3].plot(xx, Z, marker='o',ms=ms, markerfacecolor=\"None\",\n",
    "           markeredgecolor=c, markeredgewidth=ew,lw=0)\n",
    "Z_tot = np.sqrt(np.sum(Z**2))\n",
    "ax[3].plot([2], Z_tot, marker='o',ms=big_ms, color=c,lw=0)\n",
    "\n",
    "print(f'bbbb: S={np.sum(S):.2f}, B={np.sum(B):.0f}, S/B={np.sum(S)/np.sum(B):.4f}, Z={Z_tot:.3f}')\n",
    "\n",
    "\n",
    "\n",
    "ax[0].set_ylabel('SM HH',fontsize=16)\n",
    "ax[1].set_ylabel('Bkg',fontsize=16,labelpad=-10,y=0.35)\n",
    "ax[2].set_ylabel('$S$ / $B$',fontsize=16)\n",
    "ax[3].set_ylabel('$S / \\sqrt{B}$',fontsize=16)\n",
    "\n",
    "\n",
    "ax[-1].set_xticks(range(3))\n",
    "ax[-1].set_xticklabels(['bbyy',r'bb$\\tau\\tau$','4b'],fontsize=16)\n",
    "ax[-1].set_xlim(-.5,2.5)\n",
    "\n",
    "c='grey'\n",
    "ax[0].plot([],[],marker='o',ms=big_ms+2, color=c,lw=0,label='Inclusive')\n",
    "ax[0].plot([],[], label='categories',\n",
    "           marker='o',ms=ms+2, markerfacecolor=\"None\",\n",
    "           markeredgecolor=c, markeredgewidth=ew,lw=0)\n",
    "\n",
    "ax[0].legend(handletextpad=0.1,fontsize=14)\n",
    "plt.minorticks_off()\n",
    "\n",
    "plt.savefig(f'../figures/my_dihiggs/chan_cf_threshold_{thresh}.pdf',bbox_inches='tight')"
   ]
  },
  {
   "cell_type": "code",
   "execution_count": 125,
   "id": "4ca85fac",
   "metadata": {},
   "outputs": [],
   "source": [
    "?plt.legend"
   ]
  },
  {
   "cell_type": "code",
   "execution_count": 104,
   "id": "37f80d24",
   "metadata": {},
   "outputs": [
    {
     "data": {
      "text/plain": [
       "Text(0, 0.5, 'S')"
      ]
     },
     "execution_count": 104,
     "metadata": {},
     "output_type": "execute_result"
    },
    {
     "data": {
      "image/png": "[encoded data removed]",
      "text/plain": [
       "<Figure size 432x288 with 1 Axes>"
      ]
     },
     "metadata": {
      "needs_background": "light"
     },
     "output_type": "display_data"
    }
   ],
   "source": [
    "c='hh:darkyellow'\n",
    "\n",
    "for thresh in range(5,15):\n",
    "    \n",
    "    xx = np.linspace(thresh-.1,thresh+.1,3)\n",
    "    S = np.sum(bbtt.loc[thresh:,(['had had','SLT','DTT'],'sig')])\n",
    "\n",
    "    plt.plot(xx, S,marker='o',ms=6, markerfacecolor=\"None\",\n",
    "               markeredgecolor=c, markeredgewidth=1,lw=0)\n",
    "\n",
    "    plt.plot([thresh], np.sum(S),marker='o',ms=big_ms, color=c,lw=0)\n",
    "\n",
    "\n",
    "plt.plot([5,14],[bbyy.loc['SM HH',cols].sum()]*2,'hh:lightturquoise',ls='--',lw=2)\n",
    "\n",
    "plt.plot([5,14],[bbbb['ggF SM'].sum()]*2,'hh:darkpink',ls='--',lw=2)\n",
    "\n",
    "\n",
    "plt.ylabel('S',fontsize=18)"
   ]
  },
  {
   "cell_type": "markdown",
   "id": "96adfa48",
   "metadata": {},
   "source": [
    "Note since the signal shapes are roughly the same between each of these 3 channels, if I define cuts based on the signal efficiency, I won't really get different answers for each of these 3 channels."
   ]
  },
  {
   "cell_type": "code",
   "execution_count": null,
   "id": "885798d2",
   "metadata": {},
   "outputs": [],
   "source": []
  },
  {
   "cell_type": "code",
   "execution_count": 101,
   "id": "0f896858",
   "metadata": {},
   "outputs": [
    {
     "data": {
      "text/plain": [
       "Text(0, 0.5, 'B')"
      ]
     },
     "execution_count": 101,
     "metadata": {},
     "output_type": "execute_result"
    },
    {
     "data": {
      "image/png": "[encoded data removed]",
      "text/plain": [
       "<Figure size 432x288 with 1 Axes>"
      ]
     },
     "metadata": {
      "needs_background": "light"
     },
     "output_type": "display_data"
    }
   ],
   "source": [
    "c='hh:darkyellow'\n",
    "\n",
    "for thresh in range(5,15):\n",
    "    \n",
    "    xx = np.linspace(thresh-.1,thresh+.1,3)\n",
    "\n",
    "    B = np.sum(bbtt.loc[thresh:,(['had had','SLT','DTT'],'exp bkg')])\n",
    "\n",
    "\n",
    "    plt.plot(xx, B, marker='o',ms=ms, markerfacecolor=\"None\",\n",
    "           markeredgecolor=c, markeredgewidth=ew,lw=0)\n",
    "\n",
    "\n",
    "    plt.plot([thresh], np.sum(B),marker='o',ms=big_ms, color=c,lw=0)\n",
    "\n",
    "    \n",
    "b =  np.sum(bbyy.loc['Continuum bkg',cols]+bbyy.loc['Single Higgs bkg',cols])\n",
    "plt.plot([5,14],[b]*2,'hh:lightturquoise',ls='--',lw=2)\n",
    "\n",
    "plt.plot([5,14],[bbbb['Bkg'].sum()]*2,'hh:darkpink',ls='--',lw=2)\n",
    "\n",
    "plt.ylabel('B',fontsize=18)"
   ]
  },
  {
   "cell_type": "code",
   "execution_count": 100,
   "id": "c77271f5",
   "metadata": {},
   "outputs": [
    {
     "data": {
      "text/plain": [
       "Text(0.5, 0, 'S/B')"
      ]
     },
     "execution_count": 100,
     "metadata": {},
     "output_type": "execute_result"
    },
    {
     "data": {
      "image/png": "[encoded data removed]",
      "text/plain": [
       "<Figure size 432x288 with 1 Axes>"
      ]
     },
     "metadata": {
      "needs_background": "light"
     },
     "output_type": "display_data"
    }
   ],
   "source": [
    "c='hh:darkyellow'\n",
    "\n",
    "for thresh in range(5,15):\n",
    "    \n",
    "    xx = np.linspace(thresh-.1,thresh+.1,3)\n",
    "    S = np.sum(bbtt.loc[thresh:,(['had had','SLT','DTT'],'sig')])\n",
    "\n",
    "    B = np.sum(bbtt.loc[thresh:,(['had had','SLT','DTT'],'exp bkg')])\n",
    "\n",
    "\n",
    "    plt.plot(xx, S.values/B.values, marker='o',ms=ms, markerfacecolor=\"None\",\n",
    "           markeredgecolor=c, markeredgewidth=ew,lw=0)\n",
    "\n",
    "\n",
    "    plt.plot([thresh], np.sum(S)/np.sum(B),marker='o',ms=big_ms, color=c,lw=0)\n",
    "\n",
    "    \n",
    "s = np.sum(bbyy.loc['SM HH',cols]) / np.sum(bbyy.loc['Continuum bkg',cols]+bbyy.loc['Single Higgs bkg',cols])\n",
    "plt.plot([5,14],[s]*2,'hh:lightturquoise',ls='--',lw=2)\n",
    "\n",
    "plt.plot([5,14],[bbbb['ggF SM'].sum() / bbbb['Bkg'].sum()]*2,'hh:darkpink',ls='--',lw=2)\n",
    "\n",
    "plt.xlabel('S/B',fontsize=18)"
   ]
  },
  {
   "cell_type": "code",
   "execution_count": 98,
   "id": "2051c409",
   "metadata": {},
   "outputs": [
    {
     "data": {
      "text/plain": [
       "(4.5, 14.5)"
      ]
     },
     "execution_count": 98,
     "metadata": {},
     "output_type": "execute_result"
    },
    {
     "data": {
      "image/png": "[encoded data removed]",
      "text/plain": [
       "<Figure size 432x288 with 1 Axes>"
      ]
     },
     "metadata": {
      "needs_background": "light"
     },
     "output_type": "display_data"
    }
   ],
   "source": [
    "c='hh:darkyellow'\n",
    "\n",
    "for thresh in range(5,15):\n",
    "    \n",
    "    xx = np.linspace(thresh-.1,thresh+.1,3)\n",
    "    S = np.sum(bbtt.loc[thresh:,(['had had','SLT','DTT'],'sig')])\n",
    "\n",
    "    B = np.sum(bbtt.loc[thresh:,(['had had','SLT','DTT'],'exp bkg')])\n",
    "\n",
    "\n",
    "    Z = S.values/np.sqrt(B.values)\n",
    "    plt.plot(xx, Z, marker='o',ms=ms, markerfacecolor=\"None\",\n",
    "           markeredgecolor=c, markeredgewidth=ew,lw=0)\n",
    "\n",
    "\n",
    "    plt.plot([thresh],np.sqrt( np.sum(Z**2)),marker='o',ms=big_ms, color=c,lw=0)\n",
    "\n",
    "Zi = bbyy.loc['SM HH',cols] / np.sqrt(bbyy.loc['Continuum bkg',cols]+bbyy.loc['Single Higgs bkg',cols])\n",
    "plt.plot([5,14],[np.sqrt(np.sum(Zi**2))]*2,'hh:lightturquoise',ls='--',lw=2)\n",
    "\n",
    "Zi = bbbb['ggF SM'] / np.sqrt(bbbb['Bkg'])\n",
    "plt.plot([5,14],[np.sqrt(np.sum(Zi**2))]*2,'hh:darkpink',ls='--',lw=2)\n",
    "\n",
    "\n",
    "\n",
    "plt.ylabel('S/sqrt(B)',fontsize=18)\n",
    "plt.xlabel('disc cut',fontsize=18)\n",
    "\n",
    "plt.xlim(4.5,14.5)"
   ]
  },
  {
   "cell_type": "code",
   "execution_count": 95,
   "id": "d36a5eb5",
   "metadata": {},
   "outputs": [
    {
     "data": {
      "text/html": [
       "<div>\n",
       "<style scoped>\n",
       "    .dataframe tbody tr th:only-of-type {\n",
       "        vertical-align: middle;\n",
       "    }\n",
       "\n",
       "    .dataframe tbody tr th {\n",
       "        vertical-align: top;\n",
       "    }\n",
       "\n",
       "    .dataframe thead th {\n",
       "        text-align: right;\n",
       "    }\n",
       "</style>\n",
       "<table border=\"1\" class=\"dataframe\">\n",
       "  <thead>\n",
       "    <tr style=\"text-align: right;\">\n",
       "      <th></th>\n",
       "      <th></th>\n",
       "      <th>Data</th>\n",
       "      <th>Bkg</th>\n",
       "      <th>ggF SM</th>\n",
       "      <th>VBF SM</th>\n",
       "      <th>ggF SM / Bkg</th>\n",
       "      <th>VBF SM / Bkg</th>\n",
       "    </tr>\n",
       "  </thead>\n",
       "  <tbody>\n",
       "    <tr>\n",
       "      <th rowspan=\"3\" valign=\"top\">$X_{hh}&lt;0.95$</th>\n",
       "      <th>$\\Delta\\eta&lt;0.5$</th>\n",
       "      <td>1940</td>\n",
       "      <td>1940</td>\n",
       "      <td>7.0</td>\n",
       "      <td>0.038</td>\n",
       "      <td>0.003608</td>\n",
       "      <td>0.000020</td>\n",
       "    </tr>\n",
       "    <tr>\n",
       "      <th>$\\Delta\\eta \\in (0.5, 1.0)$</th>\n",
       "      <td>1924</td>\n",
       "      <td>1870</td>\n",
       "      <td>5.1</td>\n",
       "      <td>0.037</td>\n",
       "      <td>0.002727</td>\n",
       "      <td>0.000020</td>\n",
       "    </tr>\n",
       "    <tr>\n",
       "      <th>$\\Delta\\eta&gt;1.0$</th>\n",
       "      <td>1880</td>\n",
       "      <td>1740</td>\n",
       "      <td>2.9</td>\n",
       "      <td>0.043</td>\n",
       "      <td>0.001667</td>\n",
       "      <td>0.000025</td>\n",
       "    </tr>\n",
       "    <tr>\n",
       "      <th rowspan=\"3\" valign=\"top\">$X_{hh}&gt;0.95$</th>\n",
       "      <th>$\\Delta\\eta&lt;0.5$</th>\n",
       "      <td>3602</td>\n",
       "      <td>3620</td>\n",
       "      <td>6.5</td>\n",
       "      <td>0.036</td>\n",
       "      <td>0.001796</td>\n",
       "      <td>0.000010</td>\n",
       "    </tr>\n",
       "    <tr>\n",
       "      <th>$\\Delta\\eta \\in (0.5, 1.0)$</th>\n",
       "      <td>3540</td>\n",
       "      <td>3490</td>\n",
       "      <td>4.7</td>\n",
       "      <td>0.040</td>\n",
       "      <td>0.001347</td>\n",
       "      <td>0.000011</td>\n",
       "    </tr>\n",
       "    <tr>\n",
       "      <th>$\\Delta\\eta&gt;1.0$</th>\n",
       "      <td>3285</td>\n",
       "      <td>3210</td>\n",
       "      <td>2.8</td>\n",
       "      <td>0.041</td>\n",
       "      <td>0.000872</td>\n",
       "      <td>0.000013</td>\n",
       "    </tr>\n",
       "  </tbody>\n",
       "</table>\n",
       "</div>"
      ],
      "text/plain": [
       "                                           Data   Bkg  ggF SM  VBF SM  \\\n",
       "$X_{hh}<0.95$ $\\Delta\\eta<0.5$             1940  1940     7.0   0.038   \n",
       "              $\\Delta\\eta \\in (0.5, 1.0)$  1924  1870     5.1   0.037   \n",
       "              $\\Delta\\eta>1.0$             1880  1740     2.9   0.043   \n",
       "$X_{hh}>0.95$ $\\Delta\\eta<0.5$             3602  3620     6.5   0.036   \n",
       "              $\\Delta\\eta \\in (0.5, 1.0)$  3540  3490     4.7   0.040   \n",
       "              $\\Delta\\eta>1.0$             3285  3210     2.8   0.041   \n",
       "\n",
       "                                           ggF SM / Bkg  VBF SM / Bkg  \n",
       "$X_{hh}<0.95$ $\\Delta\\eta<0.5$                 0.003608      0.000020  \n",
       "              $\\Delta\\eta \\in (0.5, 1.0)$      0.002727      0.000020  \n",
       "              $\\Delta\\eta>1.0$                 0.001667      0.000025  \n",
       "$X_{hh}>0.95$ $\\Delta\\eta<0.5$                 0.001796      0.000010  \n",
       "              $\\Delta\\eta \\in (0.5, 1.0)$      0.001347      0.000011  \n",
       "              $\\Delta\\eta>1.0$                 0.000872      0.000013  "
      ]
     },
     "execution_count": 95,
     "metadata": {},
     "output_type": "execute_result"
    }
   ],
   "source": [
    "bbbb"
   ]
  },
  {
   "cell_type": "code",
   "execution_count": 85,
   "id": "538e970e",
   "metadata": {},
   "outputs": [
    {
     "data": {
      "text/html": [
       "<div>\n",
       "<style scoped>\n",
       "    .dataframe tbody tr th:only-of-type {\n",
       "        vertical-align: middle;\n",
       "    }\n",
       "\n",
       "    .dataframe tbody tr th {\n",
       "        vertical-align: top;\n",
       "    }\n",
       "\n",
       "    .dataframe thead th {\n",
       "        text-align: right;\n",
       "    }\n",
       "</style>\n",
       "<table border=\"1\" class=\"dataframe\">\n",
       "  <thead>\n",
       "    <tr style=\"text-align: right;\">\n",
       "      <th></th>\n",
       "      <th>High mass BDT tight</th>\n",
       "      <th>High mass BDT loose</th>\n",
       "      <th>Low mass BDT tight</th>\n",
       "      <th>Low mass BDT loose</th>\n",
       "      <th>all</th>\n",
       "    </tr>\n",
       "  </thead>\n",
       "  <tbody>\n",
       "    <tr>\n",
       "      <th>Continuum bkg</th>\n",
       "      <td>4.900000</td>\n",
       "      <td>9.500000</td>\n",
       "      <td>3.700000</td>\n",
       "      <td>24.900000</td>\n",
       "      <td>43.000000</td>\n",
       "    </tr>\n",
       "    <tr>\n",
       "      <th>Single Higgs bkg</th>\n",
       "      <td>0.670000</td>\n",
       "      <td>1.570000</td>\n",
       "      <td>0.220000</td>\n",
       "      <td>1.390000</td>\n",
       "      <td>3.850000</td>\n",
       "    </tr>\n",
       "    <tr>\n",
       "      <th>SM HH</th>\n",
       "      <td>0.875300</td>\n",
       "      <td>0.368000</td>\n",
       "      <td>0.049400</td>\n",
       "      <td>0.078700</td>\n",
       "      <td>1.371400</td>\n",
       "    </tr>\n",
       "    <tr>\n",
       "      <th>S/B</th>\n",
       "      <td>0.157145</td>\n",
       "      <td>0.033243</td>\n",
       "      <td>0.012602</td>\n",
       "      <td>0.002994</td>\n",
       "      <td>0.029272</td>\n",
       "    </tr>\n",
       "  </tbody>\n",
       "</table>\n",
       "</div>"
      ],
      "text/plain": [
       "                  High mass BDT tight  High mass BDT loose  \\\n",
       "Continuum bkg                4.900000             9.500000   \n",
       "Single Higgs bkg             0.670000             1.570000   \n",
       "SM HH                        0.875300             0.368000   \n",
       "S/B                          0.157145             0.033243   \n",
       "\n",
       "                  Low mass BDT tight  Low mass BDT loose        all  \n",
       "Continuum bkg               3.700000           24.900000  43.000000  \n",
       "Single Higgs bkg            0.220000            1.390000   3.850000  \n",
       "SM HH                       0.049400            0.078700   1.371400  \n",
       "S/B                         0.012602            0.002994   0.029272  "
      ]
     },
     "execution_count": 85,
     "metadata": {},
     "output_type": "execute_result"
    }
   ],
   "source": [
    "bbyy[]"
   ]
  },
  {
   "cell_type": "code",
   "execution_count": 46,
   "id": "ed4d8661",
   "metadata": {},
   "outputs": [
    {
     "data": {
      "text/plain": [
       "array([0.01270252, 0.00166375, 0.00417715])"
      ]
     },
     "execution_count": 46,
     "metadata": {},
     "output_type": "execute_result"
    }
   ],
   "source": [
    "S.values/B.values"
   ]
  },
  {
   "cell_type": "code",
   "execution_count": 48,
   "id": "c8ee1c2d",
   "metadata": {},
   "outputs": [
    {
     "data": {
      "text/plain": [
       "had had  sig    19.417002\n",
       "SLT      sig    21.935988\n",
       "DTT      sig     5.227885\n",
       "dtype: float64"
      ]
     },
     "execution_count": 48,
     "metadata": {},
     "output_type": "execute_result"
    }
   ],
   "source": [
    "S"
   ]
  },
  {
   "cell_type": "code",
   "execution_count": 47,
   "id": "c510c77c",
   "metadata": {},
   "outputs": [
    {
     "data": {
      "text/plain": [
       "had had  exp bkg     1528.594659\n",
       "SLT      exp bkg    13184.664899\n",
       "DTT      exp bkg     1251.543516\n",
       "dtype: float64"
      ]
     },
     "execution_count": 47,
     "metadata": {},
     "output_type": "execute_result"
    }
   ],
   "source": [
    "B"
   ]
  },
  {
   "cell_type": "code",
   "execution_count": 31,
   "id": "6436320c",
   "metadata": {},
   "outputs": [
    {
     "name": "stdout",
     "output_type": "stream",
     "text": [
      "Object `ax[-1].set_xticklabels` not found.\n"
     ]
    }
   ],
   "source": [
    "?ax[-1].set_xticklabels"
   ]
  },
  {
   "cell_type": "code",
   "execution_count": null,
   "id": "d2cd7067",
   "metadata": {},
   "outputs": [],
   "source": []
  }
 ],
 "metadata": {
  "kernelspec": {
   "display_name": "Python 3",
   "language": "python",
   "name": "python3"
  },
  "language_info": {
   "codemirror_mode": {
    "name": "ipython",
    "version": 3
   },
   "file_extension": ".py",
   "mimetype": "text/x-python",
   "name": "python",
   "nbconvert_exporter": "python",
   "pygments_lexer": "ipython3",
   "version": "3.8.8"
  }
 },
 "nbformat": 4,
 "nbformat_minor": 5
}
