{
 "cells": [
  {
   "cell_type": "markdown",
   "id": "bd863c62",
   "metadata": {},
   "source": [
    "# HH channels\n",
    "\n",
    "**Goal:** I wanted to show the S/B tables for th 3 main channels, so that's what I'm doing in this notebook."
   ]
  },
  {
   "cell_type": "code",
   "execution_count": 1,
   "id": "e2280026",
   "metadata": {},
   "outputs": [],
   "source": [
    "import pandas as pd"
   ]
  },
  {
   "cell_type": "code",
   "execution_count": null,
   "id": "fac043d6",
   "metadata": {},
   "outputs": [],
   "source": []
  },
  {
   "cell_type": "markdown",
   "id": "e3084677",
   "metadata": {},
   "source": [
    "**From ATLAS-CONF-2021-016:**\n",
    "\n",
    "<img src=\"bbyy-table.png\">"
   ]
  },
  {
   "cell_type": "markdown",
   "id": "f060e6d4",
   "metadata": {},
   "source": [
    "**Note:** By summing up the ggF, ttH, ZH, and rest rows, they are the same as the the single Higgs bkgs, so these don't give you any extra information."
   ]
  },
  {
   "cell_type": "code",
   "execution_count": 6,
   "id": "9ff6217e",
   "metadata": {},
   "outputs": [
    {
     "data": {
      "text/plain": [
       "0.6698999999999999"
      ]
     },
     "execution_count": 6,
     "metadata": {},
     "output_type": "execute_result"
    }
   ],
   "source": [
    ".261+.1929+.142 +.074"
   ]
  },
  {
   "cell_type": "code",
   "execution_count": 16,
   "id": "c4e9c2d8",
   "metadata": {},
   "outputs": [],
   "source": [
    "bbyy = pd.DataFrame(0,\n",
    "                    ['Continuum bkg','Single Higgs bkg','SM HH'],\n",
    "                    ['High mass BDT tight','High mass BDT loose','Low mass BDT tight','Low mass BDT loose'])\n",
    "\n",
    "bbyy['High mass BDT tight'] = [4.9, 0.670, 0.8753]\n",
    "bbyy['High mass BDT loose'] = [9.5,1.57,.3680]\n",
    "\n",
    "bbyy['Low mass BDT tight'] = [3.7,.220,0.0494]\n",
    "bbyy['Low mass BDT loose'] = [24.9,1.39,.0787]\n",
    "\n",
    "bbyy['all'] = bbyy.values.sum(axis=1)"
   ]
  },
  {
   "cell_type": "code",
   "execution_count": 17,
   "id": "75bc80fe",
   "metadata": {},
   "outputs": [
    {
     "data": {
      "text/html": [
       "<div>\n",
       "<style scoped>\n",
       "    .dataframe tbody tr th:only-of-type {\n",
       "        vertical-align: middle;\n",
       "    }\n",
       "\n",
       "    .dataframe tbody tr th {\n",
       "        vertical-align: top;\n",
       "    }\n",
       "\n",
       "    .dataframe thead th {\n",
       "        text-align: right;\n",
       "    }\n",
       "</style>\n",
       "<table border=\"1\" class=\"dataframe\">\n",
       "  <thead>\n",
       "    <tr style=\"text-align: right;\">\n",
       "      <th></th>\n",
       "      <th>High mass BDT tight</th>\n",
       "      <th>High mass BDT loose</th>\n",
       "      <th>Low mass BDT tight</th>\n",
       "      <th>Low mass BDT loose</th>\n",
       "      <th>all</th>\n",
       "    </tr>\n",
       "  </thead>\n",
       "  <tbody>\n",
       "    <tr>\n",
       "      <th>Continuum bkg</th>\n",
       "      <td>4.9000</td>\n",
       "      <td>9.500</td>\n",
       "      <td>3.7000</td>\n",
       "      <td>24.9000</td>\n",
       "      <td>43.0000</td>\n",
       "    </tr>\n",
       "    <tr>\n",
       "      <th>Single Higgs bkg</th>\n",
       "      <td>0.6700</td>\n",
       "      <td>1.570</td>\n",
       "      <td>0.2200</td>\n",
       "      <td>1.3900</td>\n",
       "      <td>3.8500</td>\n",
       "    </tr>\n",
       "    <tr>\n",
       "      <th>SM HH</th>\n",
       "      <td>0.8753</td>\n",
       "      <td>0.368</td>\n",
       "      <td>0.0494</td>\n",
       "      <td>0.0787</td>\n",
       "      <td>1.3714</td>\n",
       "    </tr>\n",
       "  </tbody>\n",
       "</table>\n",
       "</div>"
      ],
      "text/plain": [
       "                  High mass BDT tight  High mass BDT loose  \\\n",
       "Continuum bkg                  4.9000                9.500   \n",
       "Single Higgs bkg               0.6700                1.570   \n",
       "SM HH                          0.8753                0.368   \n",
       "\n",
       "                  Low mass BDT tight  Low mass BDT loose      all  \n",
       "Continuum bkg                 3.7000             24.9000  43.0000  \n",
       "Single Higgs bkg              0.2200              1.3900   3.8500  \n",
       "SM HH                         0.0494              0.0787   1.3714  "
      ]
     },
     "execution_count": 17,
     "metadata": {},
     "output_type": "execute_result"
    }
   ],
   "source": [
    "bbyy"
   ]
  },
  {
   "cell_type": "code",
   "execution_count": 15,
   "id": "e480ad92",
   "metadata": {},
   "outputs": [
    {
     "data": {
      "text/plain": [
       "43.0"
      ]
     },
     "execution_count": 15,
     "metadata": {},
     "output_type": "execute_result"
    }
   ],
   "source": [
    "4.9000+9.50+3.7000+24.9000"
   ]
  },
  {
   "cell_type": "code",
   "execution_count": 18,
   "id": "fd817fb1",
   "metadata": {},
   "outputs": [
    {
     "data": {
      "text/plain": [
       "0.02927214514407684"
      ]
     },
     "execution_count": 18,
     "metadata": {},
     "output_type": "execute_result"
    }
   ],
   "source": [
    "1.3714/46.85"
   ]
  },
  {
   "cell_type": "code",
   "execution_count": 19,
   "id": "53082295",
   "metadata": {},
   "outputs": [
    {
     "data": {
      "text/plain": [
       "120433.82"
      ]
     },
     "execution_count": 19,
     "metadata": {},
     "output_type": "execute_result"
    }
   ],
   "source": [
    "103734+7110.77+9589.05"
   ]
  },
  {
   "cell_type": "code",
   "execution_count": 20,
   "id": "42a5f395",
   "metadata": {},
   "outputs": [
    {
     "data": {
      "text/plain": [
       "0.00010882399342372937"
      ]
     },
     "execution_count": 20,
     "metadata": {},
     "output_type": "execute_result"
    }
   ],
   "source": [
    "13.106/120433"
   ]
  },
  {
   "cell_type": "code",
   "execution_count": null,
   "id": "5b294652",
   "metadata": {},
   "outputs": [],
   "source": []
  }
 ],
 "metadata": {
  "kernelspec": {
   "display_name": "Python 3",
   "language": "python",
   "name": "python3"
  },
  "language_info": {
   "codemirror_mode": {
    "name": "ipython",
    "version": 3
   },
   "file_extension": ".py",
   "mimetype": "text/x-python",
   "name": "python",
   "nbconvert_exporter": "python",
   "pygments_lexer": "ipython3",
   "version": "3.8.8"
  }
 },
 "nbformat": 4,
 "nbformat_minor": 5
}
