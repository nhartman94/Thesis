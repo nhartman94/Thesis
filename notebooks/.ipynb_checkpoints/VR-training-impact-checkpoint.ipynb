{
 "cells": [
  {
   "cell_type": "markdown",
   "id": "e0b5f84c",
   "metadata": {},
   "source": [
    "# VR track jet training impact\n",
    "\n",
    "**Goal:** Make a version of this plot that summarizes the improvements from the boosted analysis due to the better VR track jet b-taggers."
   ]
  },
  {
   "cell_type": "code",
   "execution_count": null,
   "id": "a30f5a04",
   "metadata": {},
   "outputs": [],
   "source": [
    "import matplotlib.pyplot as plt\n",
    "import pandas as pd\n",
    "import numpy as np\n",
    "import os\n",
    "\n",
    "import matplotlib as mpl\n",
    "os.sys.path.append( \"PyATLASstyle/\")\n",
    "import PyATLASstyle as pas\n",
    "pas.applyATLASstyle(mpl)"
   ]
  },
  {
   "cell_type": "code",
   "execution_count": null,
   "id": "4aa1569b",
   "metadata": {},
   "outputs": [],
   "source": [
    "lumi1 = 36.1\n",
    "lumi2 = 139\n",
    "\n",
    "BR_Hbb = 0.582"
   ]
  },
  {
   "cell_type": "code",
   "execution_count": null,
   "id": "751de07b",
   "metadata": {},
   "outputs": [],
   "source": [
    "fDir1 = 'HEPData-ins1668124-v1-csv'\n",
    "fDir2 = 'HEPData-ins2032611-v2-csv'"
   ]
  },
  {
   "cell_type": "markdown",
   "id": "e31c94ec",
   "metadata": {},
   "source": [
    "**Step 1:** Let's look at the scalar limits"
   ]
  },
  {
   "cell_type": "code",
   "execution_count": null,
   "id": "68817230",
   "metadata": {},
   "outputs": [],
   "source": [
    "'''\n",
    "36ifb result\n",
    "'''\n",
    "\n",
    "# Load in the obs limit\n",
    "df1 = pd.read_csv(f'{fDir1}/Table1.csv',skiprows=9,nrows=23,index_col=0)\n",
    "\n",
    "df_tmp = pd.read_csv(f'{fDir1}/Table1.csv',skiprows=35,nrows=23,index_col=0)\n",
    "\n",
    "# Load in the exp limit\n",
    "assert np.sum(df1.index != df_tmp.index) == 0\n",
    "\n",
    "df1['Expected limit [fb]'] = df_tmp['Expected limit [fb]']\n",
    "df1"
   ]
  },
  {
   "cell_type": "code",
   "execution_count": null,
   "id": "78d71744",
   "metadata": {},
   "outputs": [],
   "source": [
    "df_tmp.columns"
   ]
  },
  {
   "cell_type": "code",
   "execution_count": null,
   "id": "a923b3c7",
   "metadata": {},
   "outputs": [],
   "source": [
    "f'{fDir2}/Table19.csv'"
   ]
  },
  {
   "cell_type": "code",
   "execution_count": null,
   "id": "2f489bbb",
   "metadata": {},
   "outputs": [],
   "source": [
    "df2 = pd.read_csv(f'{fDir2}/Table19.csv',skiprows=8,nrows=28,index_col=0)\n",
    "\n",
    "df_tmp = pd.read_csv(f'{fDir2}/Table19.csv',skiprows=37,nrows=28,index_col=0)\n",
    "\n",
    "exp_col = df_tmp.columns[0]\n",
    "df2[exp_col] = df_tmp[exp_col]\n",
    "\n",
    "df2"
   ]
  },
  {
   "cell_type": "code",
   "execution_count": null,
   "id": "9eb0f848",
   "metadata": {},
   "outputs": [],
   "source": [
    "ms = np.array(list(set(df1.index).intersection(set(df2.index))))\n",
    "ms = np.sort(ms)"
   ]
  },
  {
   "cell_type": "code",
   "execution_count": null,
   "id": "fb6c8258",
   "metadata": {},
   "outputs": [],
   "source": [
    "fig, (ax, ax_rat) = plt.subplots(2,1,figsize=(6,6), sharex=True,\n",
    "                                 gridspec_kw={\"height_ratios\": [.66,.34],\n",
    "                                              \"hspace\":0.1, \"bottom\":0.25})\n",
    "\n",
    "\n",
    "\n",
    "ax.plot(df1.index,df1['Observed limit [fb]']/(BR_Hbb)**2,'grey',ls='-',\n",
    "          label='Obs (36.1 ifb)')\n",
    "ax.plot(df1.index,df1['Expected limit [fb]']/(BR_Hbb)**2,'grey',ls='--',\n",
    "          label='Exp (36.1 ifb)')\n",
    "\n",
    "s = np.sqrt(lumi1/lumi2)/(BR_Hbb)**2\n",
    "ax.plot(df1.index,s*df1['Observed limit [fb]'],'k-',\n",
    "          label='Obs (lumi scaling)')\n",
    "ax.plot(df1.index,s*df1['Expected limit [fb]'],'k--',\n",
    "          label='Exp (lumi scaling)')\n",
    "\n",
    "ax.plot(df2.index,df2[df2.columns[0]],\n",
    "           'b-',label='Obs (139 ifb)')\n",
    "ax.plot(df2.index,df2[exp_col],'b--',\n",
    "          label='Exp (139 ifb)')\n",
    "\n",
    "\n",
    "# Show the rel improvment in addition to lumi scaling\n",
    "ax_rat.plot(ms,np.ones_like(ms),'k--')\n",
    "ax_rat.plot(ms,df2.loc[ms,df2.columns[0]]/(s*df1.loc[ms,'Observed limit [fb]']),'b-')\n",
    "ax_rat.plot(ms,df2.loc[ms,exp_col]/(s*df1.loc[ms,'Expected limit [fb]']),'b--')\n",
    "\n",
    "\n",
    "# ax = plt.gca()\n",
    "ax.set_yscale('log')\n",
    "\n",
    "ax_rat.set_xlim(900,3000)\n",
    "ax_rat.set_ylim(0,2)\n",
    "\n",
    "ax_rat.set_xlabel('$m_X$ [GeV]')\n",
    "ax.set_ylabel(r'$\\sigma (X \\rightarrow HH)$ [fb]')\n",
    "ax.legend()\n",
    "\n",
    "plt.show()"
   ]
  },
  {
   "cell_type": "code",
   "execution_count": null,
   "id": "0c5c05ec",
   "metadata": {},
   "outputs": [],
   "source": [
    "ms"
   ]
  },
  {
   "cell_type": "markdown",
   "id": "0804b102",
   "metadata": {},
   "source": [
    "The improvements from the observed data are not as clear, so I'll just show the expected lines in these plots."
   ]
  },
  {
   "cell_type": "code",
   "execution_count": null,
   "id": "9b9e6216",
   "metadata": {},
   "outputs": [],
   "source": [
    "fig, (ax, ax_rat) = plt.subplots(2,1,figsize=(8,8), sharex=True,\n",
    "                                 gridspec_kw={\"height_ratios\": [.66,.34],\n",
    "                                              \"hspace\":0.1, \"bottom\":0.25})\n",
    "ax.plot(df1.index,df1['Expected limit [fb]']/(BR_Hbb)**2,'grey',ls='--',\n",
    "          label='Result 36.1 fb$^{-1}$')\n",
    "\n",
    "s = np.sqrt(lumi1/lumi2)/(BR_Hbb)**2\n",
    "ax.plot(df1.index,s*df1['Expected limit [fb]'],'k--', label='lumi. scaling 36.1 fb$^{-1}$ result')\n",
    "ax.plot(df2.index, df2[exp_col],'b--', label='Result 139 fb$^{-1}$')\n",
    "\n",
    "# Show the rel improvment in addition to lumi scaling\n",
    "y1 = s*df1.loc[ms,'Expected limit [fb]'].values\n",
    "y2 = df2.loc[ms,exp_col].values \n",
    "\n",
    "#ax_rat.plot(ms,np.ones_like(ms),'k--')\n",
    "ax_rat.plot(ms,100*(1 - y2/y1),'b--')\n",
    "\n",
    "# ax = plt.gca()\n",
    "ax.set_yscale('log')\n",
    "\n",
    "ax_rat.set_xlim(1600,3000)\n",
    "ax_rat.set_ylim(0,100)\n",
    "\n",
    "ax_rat.set_xlabel('m(Scalar) [GeV]',loc='right',fontsize=20)\n",
    "ax.set_ylabel(r'$\\sigma$ (Scalar $\\rightarrow$ HH) [fb]',loc='top',fontsize=20)\n",
    "ax_rat.set_ylabel('% improvement\\nw/r.t. lumi scaling')\n",
    "ax.legend()\n",
    "\n",
    "pas.makeATLAStag(ax, fig, first_tag=' Thesis',\n",
    "                 second_tag=r\"$\\sqrt{s}$ = 13 TeV\"+\"\\n\"\n",
    "                            +r\"HH$\\rightarrow$4b boosted analysis\",\n",
    "                 line_spacing=0.9) \n",
    "\n",
    "#plt.savefig('../figures/my_dihiggs/HH4b-boosted-vr-trk-jet-improvements.pdf',bbox_inches='tight')\n",
    "\n",
    "plt.show()"
   ]
  },
  {
   "cell_type": "markdown",
   "id": "93ddf752",
   "metadata": {},
   "source": [
    "OK - I wanted to extend the x-axis down as far as the boosted analysis went - so I asked Jana for the numbers - and she sent them to me!!"
   ]
  },
  {
   "cell_type": "code",
   "execution_count": null,
   "id": "3de49414",
   "metadata": {},
   "outputs": [],
   "source": [
    "jdf = pd.DataFrame([190.845, 50.6693, 19.0318, 11.181, 7.93022,\n",
    "                    5.60096, 4.293, 3.37077, 2.69178, 2.2925,\n",
    "                    2.12683, 2.13088, 2.07599, 2.07325],\n",
    "                   index=[800., 900., 1000., 1100., 1200.,\n",
    "                          1300.,1400.,1600.,1800.,2000.,\n",
    "                          2250.,2500.,2750.,3000.],\n",
    "                   columns=['Expected limit [fb]'])"
   ]
  },
  {
   "cell_type": "code",
   "execution_count": null,
   "id": "5cd211b7",
   "metadata": {},
   "outputs": [],
   "source": []
  },
  {
   "cell_type": "code",
   "execution_count": null,
   "id": "adc104cf",
   "metadata": {},
   "outputs": [],
   "source": [
    "# Get the boosted only numbers from the table too\n",
    "bdf = pd.read_csv(f'{fDir2}/Table19.csv',skiprows=109,nrows=7,index_col=0)"
   ]
  },
  {
   "cell_type": "code",
   "execution_count": null,
   "id": "47a3ea38",
   "metadata": {},
   "outputs": [],
   "source": [
    "bdf"
   ]
  },
  {
   "cell_type": "code",
   "execution_count": null,
   "id": "d00f9dc8",
   "metadata": {},
   "outputs": [],
   "source": [
    "fig, (ax, ax_rat) = plt.subplots(2,1,figsize=(8,8), sharex=True,\n",
    "                                 gridspec_kw={\"height_ratios\": [.66,.34],\n",
    "                                              \"hspace\":0.1, \"bottom\":0.25})\n",
    "\n",
    "# ax.plot(df1.index,df1['Expected limit [fb]']/(BR_Hbb)**2,'r',ls='-',\n",
    "#           label='Result 36.1 fb$^{-1}$')\n",
    "\n",
    "ax.plot(jdf.index,jdf['Expected limit [fb]']/(BR_Hbb)**2,'grey',ls='--',\n",
    "          label='Result 36.1 fb$^{-1}$')\n",
    "\n",
    "s = np.sqrt(lumi1/lumi2)/(BR_Hbb)**2\n",
    "ax.plot(df1.index,s*df1['Expected limit [fb]'],'k--', label='lumi. scaling 36.1 fb$^{-1}$ result')\n",
    "ax.plot(df2.index, df2[exp_col],'b--', label='Result 139 fb$^{-1}$')\n",
    "\n",
    "ax.plot(df2.index, df2[exp_col],'cyan',marker='o', label='Result 139 fb$^{-1}$')\n",
    "\n",
    "\n",
    "\n",
    "# Show the rel improvment in addition to lumi scaling\n",
    "y1 = s*df1.loc[ms,'Expected limit [fb]'].values\n",
    "y2 = df2.loc[ms,exp_col].values \n",
    "\n",
    "#ax_rat.plot(ms,np.ones_like(ms),'k--')\n",
    "ax_rat.plot(ms,100*(1 - y2/y1),'b--')\n",
    "\n",
    "# ax = plt.gca()\n",
    "ax.set_yscale('log')\n",
    "\n",
    "ax_rat.set_xlim(900,3000)\n",
    "ax_rat.set_ylim(0,100)\n",
    "\n",
    "ax_rat.set_xlabel('m(Scalar) [GeV]',loc='right',fontsize=20)\n",
    "ax.set_ylabel(r'$\\sigma$ (Scalar $\\rightarrow$ HH) [fb]',loc='top',fontsize=20)\n",
    "ax_rat.set_ylabel('% improvement\\nw/r.t. lumi scaling')\n",
    "ax.legend()\n",
    "\n",
    "pas.makeATLAStag(ax, fig, first_tag=' Thesis',\n",
    "                 second_tag=r\"$\\sqrt{s}$ = 13 TeV\"+\"\\n\"\n",
    "                            +r\"HH$\\rightarrow$4b boosted analysis\",\n",
    "                 line_spacing=0.9) \n",
    "\n",
    "plt.savefig('../figures/my_dihiggs/HH4b-boosted-vr-trk-jet-improvements.pdf',bbox_inches='tight')\n",
    "\n",
    "plt.show()"
   ]
  },
  {
   "cell_type": "code",
   "execution_count": null,
   "id": "976bb776",
   "metadata": {},
   "outputs": [],
   "source": []
  }
 ],
 "metadata": {
  "kernelspec": {
   "display_name": "Python 3",
   "language": "python",
   "name": "python3"
  },
  "language_info": {
   "codemirror_mode": {
    "name": "ipython",
    "version": 3
   },
   "file_extension": ".py",
   "mimetype": "text/x-python",
   "name": "python",
   "nbconvert_exporter": "python",
   "pygments_lexer": "ipython3",
   "version": "3.8.8"
  }
 },
 "nbformat": 4,
 "nbformat_minor": 5
}
